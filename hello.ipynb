{
 "cells": [
  {
   "cell_type": "code",
   "execution_count": 69,
   "id": "1244f88b-a1b6-4362-8436-077b5f88dbcd",
   "metadata": {},
   "outputs": [
    {
     "data": {
      "text/plain": [
       "'\\nPrograma hello\\nDescrição: imprima na tela a frase ”Hello, World!”.\\nAutor: Leandra Arruda de Oliveira\\nData: 25/02/2025\\nVersão: 0.0.4\\nNovidades da versão:\\n\\n25/02/2025\\nNesta versão:\\n1. Nesta versão, o usuário poderá entrar com seu nome para ser cumprimentado pelo programa.\\n2. Utilizamos f-strings para escrever um código mais limpo.\\n'"
      ]
     },
     "execution_count": 69,
     "metadata": {},
     "output_type": "execute_result"
    }
   ],
   "source": [
    "\"\"\"\n",
    "Programa hello\n",
    "Descrição: imprima na tela a frase ”Hello, World!”.\n",
    "Autor: Leandra Arruda de Oliveira\n",
    "Data: 25/02/2025\n",
    "Versão: 0.0.4\n",
    "Novidades da versão:\n",
    "\n",
    "25/02/2025\n",
    "Nesta versão:\n",
    "1. Nesta versão, o usuário poderá entrar com seu nome para ser cumprimentado pelo programa.\n",
    "2. Utilizamos f-strings para escrever um código mais limpo.\n",
    "\"\"\"\n"
   ]
  },
  {
   "cell_type": "code",
   "execution_count": 71,
   "id": "9bbc5280-7b4c-43eb-bf5c-98d4c36bc3f4",
   "metadata": {},
   "outputs": [],
   "source": [
    "# Alocação de memória\n",
    "nome_usuario = \"\"\n",
    "frase = \"\""
   ]
  },
  {
   "cell_type": "code",
   "execution_count": 83,
   "id": "d97e1bf5-1ff8-413e-aa54-f72eab565695",
   "metadata": {},
   "outputs": [
    {
     "name": "stdin",
     "output_type": "stream",
     "text": [
      "\n",
      "Qual o seu nome:  Leandra\n"
     ]
    }
   ],
   "source": [
    "# Entrada de dados\n",
    "\n",
    "nome_usuario = input(\"\\nQual o seu nome: \")"
   ]
  },
  {
   "cell_type": "code",
   "execution_count": 87,
   "id": "fe1b59cd-aca3-4d39-b282-da846ba8c560",
   "metadata": {},
   "outputs": [],
   "source": [
    "# Processamento de dados\n",
    "\n",
    "frase = f\"Hello, {nome_usuario}\""
   ]
  },
  {
   "cell_type": "code",
   "execution_count": 89,
   "id": "e258a320-1c59-440c-9da1-ed6bfdf7ee1a",
   "metadata": {},
   "outputs": [
    {
     "name": "stdout",
     "output_type": "stream",
     "text": [
      "Hello, Leandra\n"
     ]
    }
   ],
   "source": [
    "# Saída de dados\n",
    "\n",
    "print(frase)"
   ]
  },
  {
   "cell_type": "code",
   "execution_count": null,
   "id": "8d1048fd-8ab5-4df0-93be-b97f3f84d6fb",
   "metadata": {},
   "outputs": [],
   "source": []
  }
 ],
 "metadata": {
  "kernelspec": {
   "display_name": "Python [conda env:base] *",
   "language": "python",
   "name": "conda-base-py"
  },
  "language_info": {
   "codemirror_mode": {
    "name": "ipython",
    "version": 3
   },
   "file_extension": ".py",
   "mimetype": "text/x-python",
   "name": "python",
   "nbconvert_exporter": "python",
   "pygments_lexer": "ipython3",
   "version": "3.12.7"
  }
 },
 "nbformat": 4,
 "nbformat_minor": 5
}
